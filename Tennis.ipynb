{
 "cells": [
  {
   "cell_type": "markdown",
   "metadata": {},
   "source": [
    "# Collaboration and Competition\n",
    "\n",
    "---\n",
    "\n",
    "In this notebook, you will learn how to use the Unity ML-Agents environment to train two agents to play Tennis.  This is the third project of the [Deep Reinforcement Learning Nanodegree](https://www.udacity.com/course/deep-reinforcement-learning-nanodegree--nd893) program.\n",
    "\n",
    "### 1. Start the Environment\n",
    "\n",
    "We begin by importing the necessary packages.  If the code cell below returns an error, please revisit the [Getting Started](./README.md) section of the project README.md."
   ]
  },
  {
   "cell_type": "code",
   "execution_count": 1,
   "metadata": {},
   "outputs": [
    {
     "data": {
      "application/json": {
       "Software versions": [
        {
         "module": "Python",
         "version": "3.6.8 64bit [GCC 5.4.0 20160609]"
        },
        {
         "module": "IPython",
         "version": "7.2.0"
        },
        {
         "module": "OS",
         "version": "Linux 4.4.0 141 generic x86_64 with Ubuntu 16.04 xenial"
        },
        {
         "module": "numpy",
         "version": "1.15.4"
        },
        {
         "module": "pandas",
         "version": "0.23.4"
        },
        {
         "module": "matplotlib",
         "version": "3.0.2"
        },
        {
         "module": "torch",
         "version": "0.4.0"
        },
        {
         "module": "unityagents",
         "version": "0.4.0"
        }
       ]
      },
      "text/html": [
       "<table><tr><th>Software</th><th>Version</th></tr><tr><td>Python</td><td>3.6.8 64bit [GCC 5.4.0 20160609]</td></tr><tr><td>IPython</td><td>7.2.0</td></tr><tr><td>OS</td><td>Linux 4.4.0 141 generic x86_64 with Ubuntu 16.04 xenial</td></tr><tr><td>numpy</td><td>1.15.4</td></tr><tr><td>pandas</td><td>0.23.4</td></tr><tr><td>matplotlib</td><td>3.0.2</td></tr><tr><td>torch</td><td>0.4.0</td></tr><tr><td>unityagents</td><td>0.4.0</td></tr><tr><td colspan='2'>Fri Feb 01 00:31:55 2019 CST</td></tr></table>"
      ],
      "text/latex": [
       "\\begin{tabular}{|l|l|}\\hline\n",
       "{\\bf Software} & {\\bf Version} \\\\ \\hline\\hline\n",
       "Python & 3.6.8 64bit [GCC 5.4.0 20160609] \\\\ \\hline\n",
       "IPython & 7.2.0 \\\\ \\hline\n",
       "OS & Linux 4.4.0 141 generic x86\\_64 with Ubuntu 16.04 xenial \\\\ \\hline\n",
       "numpy & 1.15.4 \\\\ \\hline\n",
       "pandas & 0.23.4 \\\\ \\hline\n",
       "matplotlib & 3.0.2 \\\\ \\hline\n",
       "torch & 0.4.0 \\\\ \\hline\n",
       "unityagents & 0.4.0 \\\\ \\hline\n",
       "\\hline \\multicolumn{2}{|l|}{Fri Feb 01 00:31:55 2019 CST} \\\\ \\hline\n",
       "\\end{tabular}\n"
      ],
      "text/plain": [
       "Software versions\n",
       "Python 3.6.8 64bit [GCC 5.4.0 20160609]\n",
       "IPython 7.2.0\n",
       "OS Linux 4.4.0 141 generic x86_64 with Ubuntu 16.04 xenial\n",
       "numpy 1.15.4\n",
       "pandas 0.23.4\n",
       "matplotlib 3.0.2\n",
       "torch 0.4.0\n",
       "unityagents 0.4.0\n",
       "Fri Feb 01 00:31:55 2019 CST"
      ]
     },
     "execution_count": 1,
     "metadata": {},
     "output_type": "execute_result"
    }
   ],
   "source": [
    "%load_ext version_information\n",
    "%version_information numpy, pandas, matplotlib, torch, unityagents"
   ]
  },
  {
   "cell_type": "code",
   "execution_count": 2,
   "metadata": {},
   "outputs": [],
   "source": [
    "import os\n",
    "import time\n",
    "from collections import namedtuple, deque\n",
    "from shutil import copyfile\n",
    "import numpy as np\n",
    "import matplotlib.pyplot as plt\n",
    "import torch\n",
    "from tennis_maddpg import UnityTennisEnv, Agent"
   ]
  },
  {
   "cell_type": "markdown",
   "metadata": {},
   "source": [
    "Next, we will start the environment!  **_Before running the code cell below_**, change the `file_name` parameter to match the location of the Unity environment that you downloaded.\n",
    "\n",
    "- **Mac**: `\"path/to/Tennis.app\"`\n",
    "- **Windows** (x86): `\"path/to/Tennis_Windows_x86/Tennis.exe\"`\n",
    "- **Windows** (x86_64): `\"path/to/Tennis_Windows_x86_64/Tennis.exe\"`\n",
    "- **Linux** (x86): `\"path/to/Tennis_Linux/Tennis.x86\"`\n",
    "- **Linux** (x86_64): `\"path/to/Tennis_Linux/Tennis.x86_64\"`\n",
    "- **Linux** (x86, headless): `\"path/to/Tennis_Linux_NoVis/Tennis.x86\"`\n",
    "- **Linux** (x86_64, headless): `\"path/to/Tennis_Linux_NoVis/Tennis.x86_64\"`\n",
    "\n",
    "For instance, if you are using Linux on amd64 arch, then downloaded `Tennis.x86_64`.  If this file is in the same folder as the notebook, then the line below should appear as follows:\n",
    "```python\n",
    "env = UnityTennisEnv(file_name=\"./Tennis_Linux/Tennis.x86_64\")\n",
    "```\n",
    "For headless operation add the no_graphics kwarg:\n",
    "```python\n",
    "env = UnityTennisEnv(file_name=\"./Tennis_Linux/Tennis.x86_64\", no_graphics=True)\n",
    "```"
   ]
  },
  {
   "cell_type": "code",
   "execution_count": 3,
   "metadata": {},
   "outputs": [
    {
     "name": "stderr",
     "output_type": "stream",
     "text": [
      "INFO:unityagents:\n",
      "'Academy' started successfully!\n",
      "Unity Academy name: Academy\n",
      "        Number of Brains: 1\n",
      "        Number of External Brains : 1\n",
      "        Lesson number : 0\n",
      "        Reset Parameters :\n",
      "\t\t\n",
      "Unity brain name: TennisBrain\n",
      "        Number of Visual Observations (per agent): 0\n",
      "        Vector Observation space type: continuous\n",
      "        Vector Observation space size (per agent): 8\n",
      "        Number of stacked Vector Observation: 3\n",
      "        Vector Action space type: continuous\n",
      "        Vector Action space size (per agent): 2\n",
      "        Vector Action descriptions: , \n"
     ]
    },
    {
     "name": "stdout",
     "output_type": "stream",
     "text": [
      "session_name 1549002719\n"
     ]
    }
   ],
   "source": [
    "env = UnityTennisEnv(file_name=\"./Tennis_Linux/Tennis.x86_64\", no_graphics=True)\n",
    "print('session_name', env.session_name)"
   ]
  },
  {
   "cell_type": "markdown",
   "metadata": {},
   "source": [
    "### 2. Set Hyperparameters\n",
    "\n",
    "Use the cell below to adjust the hyperparameters for training.  The current set of hyperparameters work well for training multi-agent deep reinforcement learning using both Action Space Noise (i.e. OUNoise) as well as Parameter Space Noise with Layer Normalization.\n",
    "\n",
    "The main factors that contributed to successfull learning of the Tennis agents were:\n",
    "1. Preload the Replay Buffer with 10000 random (s, a, r, s') transitions before any training.\n",
    "2. Train and update the nets with one batch every time a new transition is added (after preloading).\n",
    "3. Use a heafty batch size (i.e. 256) when training.\n",
    "4. Bump up the learning rates for both the actor and critic a bit more than the standard.  Same with Tau.\n",
    "5. Faster to train on the CPU.  (Because I only train on single batch per episode step.)\n",
    "6. Share Replay Buffer between Agents.  This is especially true if Prioritized Experience Replay is enabled."
   ]
  },
  {
   "cell_type": "code",
   "execution_count": 4,
   "metadata": {},
   "outputs": [],
   "source": [
    "PRELOAD_STEPS = int(1e4)  # initialize the replay buffer with this many transitions.\n",
    "BUFFER_SIZE = int(2e5)    # replay buffer size\n",
    "BATCH_SIZE = 256          # minibatch size\n",
    "GAMMA = 0.99              # discount factor\n",
    "TAU = 0.02                # for soft update of target parameters\n",
    "LR_ACTOR = 2e-4           # Learning rate of the actor\n",
    "LR_CRITIC = 2e-3          # Learning rate of the critic\n",
    "UPDATE_EVERY = 1          # Update the network after this many steps.\n",
    "LEARN_EVERY = 1           # Train local network ever n-steps\n",
    "RANDOM_SEED = 0\n",
    "NUM_EPISODES = 4000\n",
    "\n",
    "USE_ASN = True  # Use Action Space Noise\n",
    "ASN_KWARGS = {\n",
    "    'mu': 0.0,\n",
    "    'theta': 0.15,\n",
    "    'sigma': 0.20,\n",
    "    'scale_start': 1.0,\n",
    "    'scale_end': 0.01,\n",
    "    'decay': 0.99995\n",
    "}\n",
    "\n",
    "USE_PSN = True  # Use Parameter Space Noise\n",
    "PSN_KWARGS = {\n",
    "    'initial_stddev': 0.1,\n",
    "    'desired_action_stddev': 0.1,\n",
    "    'adoption_coefficient': 1.01\n",
    "}\n",
    "\n",
    "USE_PER = False  # Use Prioritized Experience Replay\n",
    "PER_PRIORITY_START = 1.0\n",
    "PER_PRIORITY_END = 0.3\n",
    "PER_PRIORITY_DECAY = 0.9999\n",
    "\n",
    "AGENT_SHARE_MEMORY = True\n",
    "\n",
    "# device = torch.device(\"cuda:0\" if torch.cuda.is_available() else \"cpu\")\n",
    "device = \"cpu\""
   ]
  },
  {
   "cell_type": "markdown",
   "metadata": {},
   "source": [
    "### 3. Train the Agents!"
   ]
  },
  {
   "cell_type": "code",
   "execution_count": 5,
   "metadata": {},
   "outputs": [],
   "source": [
    "def train(env, agent1, agent2, preload_steps=PRELOAD_STEPS, n_episodes=NUM_EPISODES, print_interval=100):\n",
    "    \"\"\"Train using Deep Deterministic Policy Gradients.\n",
    "\n",
    "    Params\n",
    "    ======\n",
    "        n_episodes (int): maximum number of training episodes\n",
    "        t_max (int): maximum number of timesteps per episode\n",
    "        print_every (int): print after this many episodes. Also used to define length of the deque buffer.\n",
    "    \"\"\"\n",
    "    pri = PER_PRIORITY_START\n",
    "    scores = []  # list containing scores from each episode\n",
    "    scores_window = deque(maxlen=100)  # last 100 scores\n",
    "    scores_average = []\n",
    "    best = 0\n",
    "    early_stop = 0.5\n",
    "    # log_path = os.getcwd() + \"/log\"\n",
    "    model_dir = os.getcwd() + \"/model_dir/tennis\"\n",
    "    os.makedirs(model_dir, exist_ok=True)\n",
    "\n",
    "    print('BUFFER_SIZE:', BUFFER_SIZE)\n",
    "\n",
    "    # fill replay buffer with rnd actions\n",
    "    obs = env.reset()\n",
    "    for _ in range(preload_steps):\n",
    "        actions = np.random.randn(2, 2)  # select an action (for each agent)\n",
    "\n",
    "        obs_next, rewards, dones = env.step(actions)\n",
    "\n",
    "        obs_critic = np.reshape(obs, (-1))\n",
    "        obs1 = np.concatenate((obs[0], obs_critic))\n",
    "        obs2 = np.concatenate((obs[1], obs_critic))\n",
    "\n",
    "        obs_critic_next = np.reshape(obs_next, (-1))\n",
    "        obs_next1 = np.concatenate((obs_next[0], obs_critic_next))\n",
    "        obs_next2 = np.concatenate((obs_next[1], obs_critic_next))\n",
    "\n",
    "        transition1 = (obs1, actions[0], rewards[0], obs_next1, dones[0])\n",
    "        transition2 = (obs2, actions[1], rewards[1], obs_next2, dones[1])\n",
    "\n",
    "        agent1.buffer.push(transition1)\n",
    "        agent2.buffer.push(transition2)\n",
    "\n",
    "        obs = obs_next\n",
    "        if dones.any():\n",
    "            obs = env.reset()\n",
    "\n",
    "    for i_episode in range(1, n_episodes + 1):\n",
    "        episode_rewards = np.zeros((env.num_agents, 1))  # initialize the score (for each agent)\n",
    "        obs = env.reset()  # reset the environment\n",
    "        agent1.reset()\n",
    "        agent2.reset()\n",
    "        t_step = 0\n",
    "        pri = max(pri * PER_PRIORITY_DECAY, PER_PRIORITY_END)\n",
    "\n",
    "        while True:\n",
    "\n",
    "            actions1 = agent1.act(obs[0])[0]\n",
    "            actions2 = agent2.act(obs[1])[0]\n",
    "\n",
    "            obs_next, rewards, dones = env.step([actions1, actions2])\n",
    "\n",
    "            obs_critic = np.reshape(obs, (-1))\n",
    "            obs1 = np.concatenate((obs[0], obs_critic))\n",
    "            obs2 = np.concatenate((obs[1], obs_critic))\n",
    "\n",
    "            obs_critic_next = np.reshape(obs_next, (-1))\n",
    "            obs_next1 = np.concatenate((obs_next[0], obs_critic_next))\n",
    "            obs_next2 = np.concatenate((obs_next[1], obs_critic_next))\n",
    "\n",
    "            agent1.step((obs1, actions1, rewards[0], obs_next1, dones[0]), pri)\n",
    "            agent2.step((obs2, actions2, rewards[1], obs_next2, dones[1]), pri)\n",
    "\n",
    "            episode_rewards += rewards  # update the score (for each agent)\n",
    "            obs = obs_next  # roll over states to next time step\n",
    "            if np.any(dones):  # exit loop if episode finished\n",
    "                break\n",
    "\n",
    "            t_step += 1  # increment the number of steps seen this episode.\n",
    "\n",
    "        episode_reward = np.max(episode_rewards)\n",
    "        scores_window.append(episode_reward)  # save most recent score\n",
    "        scores.append(episode_reward)\n",
    "        mean = np.mean(scores_window)\n",
    "        scores_average.append(mean)\n",
    "\n",
    "        agent1.postprocess(t_step, 0)\n",
    "        agent2.postprocess(t_step, 1)\n",
    "\n",
    "        summary = f'\\rEpisode {i_episode:>4}  Buffer Size: {len(agent1.buffer):>6}  Noise: {agent1.action_noise.scale:.2f}  t_step: {t_step:4}  Score (Avg): {episode_reward:.2f} ({mean:.3f})'\n",
    "\n",
    "        if mean >= early_stop and mean > best:\n",
    "            summary += \" (saved)\"\n",
    "            best = mean\n",
    "\n",
    "            fmt = 'maddpg_{}-EP_{}-winning_agent{}-score_{:.3f}.pt'\n",
    "            filename = os.path.join(model_dir, fmt.format(env.session_name, i_episode, episode_rewards.argmax(), best))\n",
    "            save_dict_list = [agent1.get_save_dict(), agent2.get_save_dict()]\n",
    "\n",
    "            torch.save(save_dict_list, filename)\n",
    "            copyfile(filename, os.path.join(model_dir, f'maddpg_{env.session_name}-best.pt'))\n",
    "\n",
    "        if i_episode % print_interval == 0:\n",
    "            print(summary)\n",
    "        else:\n",
    "            print(summary, end=\"\")\n",
    "\n",
    "        if best > early_stop:\n",
    "            print(f'\\nEnvironment solved in {i_episode:d} episodes!\\tAverage Score: {mean:.3f}')\n",
    "            break\n",
    "\n",
    "    return scores, scores_average"
   ]
  },
  {
   "cell_type": "code",
   "execution_count": 6,
   "metadata": {},
   "outputs": [],
   "source": [
    "agent_config = {\n",
    "    'buffer_size': BUFFER_SIZE,\n",
    "    'batch_size': BATCH_SIZE,\n",
    "    'learn_every': LEARN_EVERY,\n",
    "    'update_every': UPDATE_EVERY,\n",
    "    'gamma': GAMMA,\n",
    "    'tau': TAU,\n",
    "    'lr_actor': LR_ACTOR,\n",
    "    'lr_critic': LR_CRITIC,\n",
    "    'random_seed': RANDOM_SEED,\n",
    "    'use_asn': USE_ASN,\n",
    "    'asn_kwargs': ASN_KWARGS,\n",
    "    'use_psn': USE_PSN,\n",
    "    'psn_kwargs': PSN_KWARGS,\n",
    "    'use_per': USE_PER\n",
    "}\n",
    "Agent.share_memory = AGENT_SHARE_MEMORY\n",
    "agent1 = Agent(env.state_size, env.action_size, 0, **agent_config)\n",
    "agent2 = Agent(env.state_size, env.action_size, 1, **agent_config)"
   ]
  },
  {
   "cell_type": "code",
   "execution_count": 7,
   "metadata": {},
   "outputs": [
    {
     "name": "stdout",
     "output_type": "stream",
     "text": [
      "BUFFER_SIZE: 200000\n",
      "Episode  100  Buffer Size:  11554  Noise: 0.93  t_step:   13  Score (Avg): 0.00 (0.009)\n",
      "Episode  200  Buffer Size:  14799  Noise: 0.79  t_step:   30  Score (Avg): 0.10 (0.083)\n",
      "Episode  300  Buffer Size:  23003  Noise: 0.52  t_step:   64  Score (Avg): 0.10 (0.214)\n",
      "Episode  384  Buffer Size:  40599  Noise: 0.22  t_step: 1000  Score (Avg): 2.70 (0.506) (saved)\n",
      "Environment solved in 384 episodes!\tAverage Score: 0.506\n",
      "936.2371435165405 seconds\n"
     ]
    }
   ],
   "source": [
    "# Train\n",
    "t0 = time.time()\n",
    "scores, scores_average = train(env, agent1, agent2)\n",
    "run_time = time.time() - t0\n",
    "print(run_time, 'seconds')"
   ]
  },
  {
   "cell_type": "code",
   "execution_count": 8,
   "metadata": {},
   "outputs": [
    {
     "data": {
      "image/png": "[encoded data removed]",
      "text/plain": [
       "<Figure size 432x288 with 1 Axes>"
      ]
     },
     "metadata": {
      "needs_background": "light"
     },
     "output_type": "display_data"
    }
   ],
   "source": [
    "# plot the scores\n",
    "fig = plt.figure()\n",
    "ax = fig.add_subplot(111)\n",
    "plt.plot(np.arange(1, len(scores) + 1), scores)\n",
    "plt.plot(np.arange(1, len(scores_average) + 1), scores_average)\n",
    "ax.axhline(y=0.5, xmin=0.0, xmax=1.0, linestyle='--')\n",
    "plt.title(f'Final Buffer Length: {len(agent1.buffer)}, Time: {run_time:<6.1f}')\n",
    "plt.ylabel('Score')\n",
    "plt.xlabel('Episode #')\n",
    "filename = f'model_dir/tennis/maddpg_{env.session_name}'\n",
    "filename += f'-PER' if USE_PER else f'-ER'\n",
    "filename += f'_{PRELOAD_STEPS:d}'\n",
    "if USE_PSN:\n",
    "    filename += f'-PSN'\n",
    "plt.savefig(filename)\n",
    "plt.show()"
   ]
  },
  {
   "cell_type": "markdown",
   "metadata": {},
   "source": [
    "When finished, you can close the environment."
   ]
  },
  {
   "cell_type": "code",
   "execution_count": 9,
   "metadata": {},
   "outputs": [],
   "source": [
    "env.close()"
   ]
  },
  {
   "cell_type": "markdown",
   "metadata": {},
   "source": [
    "### 4: Test the Agents\n",
    "\n",
    "Check that the agents learned by visualizing them in the Tennis Simulator."
   ]
  },
  {
   "cell_type": "code",
   "execution_count": 4,
   "metadata": {},
   "outputs": [
    {
     "name": "stderr",
     "output_type": "stream",
     "text": [
      "INFO:unityagents:\n",
      "'Academy' started successfully!\n",
      "Unity Academy name: Academy\n",
      "        Number of Brains: 1\n",
      "        Number of External Brains : 1\n",
      "        Lesson number : 0\n",
      "        Reset Parameters :\n",
      "\t\t\n",
      "Unity brain name: TennisBrain\n",
      "        Number of Visual Observations (per agent): 0\n",
      "        Vector Observation space type: continuous\n",
      "        Vector Observation space size (per agent): 8\n",
      "        Number of stacked Vector Observation: 3\n",
      "        Vector Action space type: continuous\n",
      "        Vector Action space size (per agent): 2\n",
      "        Vector Action descriptions: , \n"
     ]
    },
    {
     "name": "stdout",
     "output_type": "stream",
     "text": [
      "Average score over 5 episodes: 0.12, 19.85 seconds\n"
     ]
    }
   ],
   "source": [
    "# Create Environment\n",
    "env = UnityTennisEnv(file_name='Tennis_Linux/Tennis.x86_64', no_graphics=False)\n",
    "\n",
    "# Restore agents with checkpoint\n",
    "agent1 = Agent(env.state_size, env.action_size, 0, restore='model_dir/tennis/maddpg_last-best.pt')\n",
    "agent2 = Agent(env.state_size, env.action_size, 1, restore='model_dir/tennis/maddpg_last-best.pt')\n",
    "\n",
    "t0 = time.time()\n",
    "n_episodes = 5                  # play game for 5 episodes\n",
    "scores = []\n",
    "\n",
    "for ep_i in range(n_episodes):\n",
    "    score = np.zeros((2, 2))           # initialize the score (for each agent)\n",
    "    obs = env.reset(train_mode=False)  # reset the environment    \n",
    "    while True:\n",
    "        actions1 = agent1.act(obs[0], train_mode=False, perturb_mode=False)[0] # select an action for agent 1\n",
    "        actions2 = agent2.act(obs[1], train_mode=False, perturb_mode=False)[0] # select an action for agent 2\n",
    "        obs_next, rewards, dones = env.step([actions1, actions2])# send all actions to tne environment\n",
    "        score += rewards               # update the score (for each agent)\n",
    "        obs = obs_next                 # roll over obs to next time step\n",
    "        if dones.any():\n",
    "            break\n",
    "    scores.append(np.max(score))\n",
    "\n",
    "print(f'Average score over {n_episodes} episodes: {np.mean(scores):.2f}, {time.time()-t0:.2f} seconds')\n",
    "env.close()"
   ]
  },
  {
   "cell_type": "markdown",
   "metadata": {},
   "source": [
    "### Future Work\n",
    "1. Add TensorBoard logging.\n",
    "2. Explore a more complicated Environment (Soccer) that is a blend of collaboration and competition."
   ]
  }
 ],
 "metadata": {
  "kernelspec": {
   "display_name": "Python 3",
   "language": "python",
   "name": "python3"
  },
  "language_info": {
   "codemirror_mode": {
    "name": "ipython",
    "version": 3
   },
   "file_extension": ".py",
   "mimetype": "text/x-python",
   "name": "python",
   "nbconvert_exporter": "python",
   "pygments_lexer": "ipython3",
   "version": "3.6.8"
  }
 },
 "nbformat": 4,
 "nbformat_minor": 2
}
